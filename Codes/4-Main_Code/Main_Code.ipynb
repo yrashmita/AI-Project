{
 "cells": [
  {
   "cell_type": "code",
   "execution_count": 1,
   "metadata": {
    "colab": {},
    "colab_type": "code",
    "id": "cVcf4sbRqGce"
   },
   "outputs": [],
   "source": [
    "#Required Packages\n",
    "\n",
    "import dlib\n",
    "import cv2\n",
    "from imutils import face_utils\n",
    "from scipy.spatial import distance \n",
    "import math\n",
    "import pandas as pd\n",
    "import numpy as np\n",
    "\n",
    "from sklearn.base import BaseEstimator, TransformerMixin\n",
    "import pandas as pd\n",
    "from sklearn.model_selection import train_test_split\n",
    "from sklearn.metrics import roc_curve, roc_auc_score, f1_score\n",
    "from sklearn.naive_bayes import GaussianNB\n",
    "from sklearn.linear_model import LogisticRegression\n",
    "from sklearn.neural_network import MLPClassifier\n",
    "from sklearn.naive_bayes import BernoulliNB\n",
    "from sklearn.tree import DecisionTreeClassifier\n",
    "import numpy as np\n",
    "import matplotlib.pyplot as plt\n",
    "import seaborn as sns\n",
    "from sklearn.pipeline import Pipeline, FeatureUnion\n",
    "from sklearn.metrics import accuracy_score\n",
    "from sklearn.metrics import confusion_matrix\n",
    "from sklearn import metrics\n",
    "import warnings\n",
    "from sklearn import preprocessing\n",
    "\n",
    "p = \"shape_predictor_68_face_landmarks.dat\"\n",
    "detector = dlib.get_frontal_face_detector()\n",
    "predictor = dlib.shape_predictor(p)"
   ]
  },
  {
   "cell_type": "code",
   "execution_count": 2,
   "metadata": {
    "colab": {},
    "colab_type": "code",
    "id": "Tqi058dZqGco"
   },
   "outputs": [],
   "source": [
    "#Feature Functions\n",
    "\n",
    "def eye_aspect_ratio(eye):\n",
    "\tA = distance.euclidean(eye[1], eye[5])\n",
    "\tB = distance.euclidean(eye[2], eye[4])\n",
    "\tC = distance.euclidean(eye[0], eye[3])\n",
    "\tear = (A + B) / (2.0 * C)\n",
    "\treturn ear\n",
    "\n",
    "def mouth_aspect_ratio(mouth):\n",
    "    A = distance.euclidean(mouth[14], mouth[18])\n",
    "    C = distance.euclidean(mouth[12], mouth[16])\n",
    "    mar = (A ) / (C)\n",
    "    return mar\n",
    "\n",
    "def circularity(eye):\n",
    "    A = distance.euclidean(eye[1], eye[4])\n",
    "    radius  = A/2.0\n",
    "    Area = math.pi * (radius ** 2)\n",
    "    p = 0\n",
    "    p += distance.euclidean(eye[0], eye[1])\n",
    "    p += distance.euclidean(eye[1], eye[2])\n",
    "    p += distance.euclidean(eye[2], eye[3])\n",
    "    p += distance.euclidean(eye[3], eye[4])\n",
    "    p += distance.euclidean(eye[4], eye[5])\n",
    "    p += distance.euclidean(eye[5], eye[0])\n",
    "    return 4 * math.pi * Area /(p**2)\n",
    "\n",
    "def mouth_over_eye(eye):\n",
    "    ear = eye_aspect_ratio(eye)\n",
    "    mar = mouth_aspect_ratio(eye)\n",
    "    mouth_eye = mar/ear\n",
    "    return mouth_eye\n",
    "\n",
    "\n",
    "def average(y_pred):\n",
    "    for i in range(len(y_pred)):\n",
    "        if i % 240 == 0 or (i+1) % 240 == 0:\n",
    "            pass\n",
    "        else: \n",
    "            average = float(y_pred[i-1] +  y_pred[i] + y_pred[i+1])/3\n",
    "            if average >= 0.5:\n",
    "                y_pred[i] = 1\n",
    "            else:\n",
    "                y_pred[i] = 0\n",
    "    return y_pred"
   ]
  },
  {
   "cell_type": "code",
   "execution_count": 3,
   "metadata": {
    "colab": {},
    "colab_type": "code",
    "id": "wluAHvusqGcu"
   },
   "outputs": [],
   "source": [
    "#Read in the Data file to Train Model\n",
    "import pandas as pd\n",
    "df = pd.read_csv('final_with_main_features.csv',sep=',')\n",
    "df = df.drop(df.columns[0],axis=1)\n",
    "\n",
    "train_percentage = 13/22\n",
    "train_index = int(len(df)*train_percentage)\n",
    "test_index = len(df)-train_index\n",
    "\n",
    "df_train = df[:train_index]\n",
    "df_test = df[-test_index:]\n",
    "\n",
    "X_test = df_test.drop([\"Y\"],axis=1)\n",
    "y_test = df_test[\"Y\"]\n",
    "\n",
    "X_train = df_train.drop('Y',axis=1)\n",
    "y_train = df_train['Y']"
   ]
  },
  {
   "cell_type": "code",
   "execution_count": 4,
   "metadata": {
    "colab": {},
    "colab_type": "code",
    "id": "W0LK5DCcqGc2",
    "outputId": "8e6f7e52-2343-4138-fd97-95f09398295c"
   },
   "outputs": [
    {
     "name": "stdout",
     "output_type": "stream",
     "text": [
      "[0.8340277777777778, 0.8038303693570451, 0.9089423653978052]\n",
      "[[2134   26]\n",
      " [ 691 1469]]\n"
     ]
    }
   ],
   "source": [
    "#KNN\n",
    "\n",
    "acc3_list = []\n",
    "f1_score3_list = []\n",
    "roc_3_list = []\n",
    "from sklearn.neighbors import KNeighborsClassifier\n",
    "for i in range(1,30):\n",
    "    neigh = KNeighborsClassifier(n_neighbors=i)\n",
    "    neigh.fit(X_train, y_train) \n",
    "    pred_KN = neigh.predict(X_test)\n",
    "    pred_KN = average(pred_KN)\n",
    "    y_score_3 = neigh.predict_proba(X_test)[:,1]\n",
    "    acc3_list.append(accuracy_score(y_test, pred_KN))\n",
    "    f1_score3_list.append(metrics.f1_score(y_test, pred_KN))\n",
    "    roc_3_list.append(metrics.roc_auc_score(y_test, y_score_3))\n",
    "    \n",
    "    \n",
    "neigh = KNeighborsClassifier(n_neighbors=acc3_list.index(max(acc3_list))+1)\n",
    "neigh.fit(X_train, y_train) \n",
    "pred_KN = neigh.predict(X_test)\n",
    "pred_KN = average(pred_KN)\n",
    "y_score_3 = neigh.predict_proba(X_test)[:,1]\n",
    "acc3 = accuracy_score(y_test, pred_KN)\n",
    "f1_score_3 = metrics.f1_score(y_test, pred_KN)\n",
    "roc_3 = metrics.roc_auc_score(y_test, y_score_3)\n",
    "print([acc3,f1_score_3,roc_3])\n",
    "print(confusion_matrix(y_test, pred_KN))"
   ]
  },
  {
   "cell_type": "code",
   "execution_count": 5,
   "metadata": {
    "colab": {},
    "colab_type": "code",
    "id": "8vtx54-AqGc9"
   },
   "outputs": [],
   "source": [
    "def model(landmarks):\n",
    "\n",
    "    features = pd.DataFrame(columns=[\"EAR\",\"MAR\",\"Circularity\",\"MOE\"])\n",
    "\n",
    "    eye = landmarks[36:68]\n",
    "    ear = eye_aspect_ratio(eye)\n",
    "    mar = mouth_aspect_ratio(eye)\n",
    "    cir = circularity(eye)\n",
    "    mouth_eye = mouth_over_eye(eye)\n",
    "\n",
    "    df = features.append({\"EAR\":ear,\"MAR\": mar,\"Circularity\": cir,\"MOE\": mouth_eye},ignore_index=True)\n",
    "\n",
    "    df[\"EAR_N\"] = (df[\"EAR\"]-mean[\"EAR\"])/ std[\"EAR\"]\n",
    "    df[\"MAR_N\"] = (df[\"MAR\"]-mean[\"MAR\"])/ std[\"MAR\"]\n",
    "    df[\"Circularity_N\"] = (df[\"Circularity\"]-mean[\"Circularity\"])/ std[\"Circularity\"]\n",
    "    df[\"MOE_N\"] = (df[\"MOE\"]-mean[\"MOE\"])/ std[\"MOE\"]\n",
    "    \n",
    "    Result = neigh.predict(df)\n",
    "    if Result == 1:\n",
    "        Result_String = \"Drowsy\"\n",
    "    else:\n",
    "        Result_String = \"Alert\"\n",
    "    \n",
    "\n",
    "    return Result_String, df.values"
   ]
  },
  {
   "cell_type": "code",
   "execution_count": 6,
   "metadata": {
    "colab": {},
    "colab_type": "code",
    "id": "AtZJFa5qqGdE"
   },
   "outputs": [],
   "source": [
    "def calibration():\n",
    "    data = []\n",
    "    cap = cv2.VideoCapture(0)\n",
    "\n",
    "    while True:\n",
    "        # Getting out image by webcam \n",
    "        _, image = cap.read()\n",
    "        # Converting the image to gray scale\n",
    "        gray = cv2.cvtColor(image, cv2.COLOR_BGR2GRAY)\n",
    "\n",
    "        # Get faces into webcam's image\n",
    "        rects = detector(image, 0)\n",
    "\n",
    "        # For each detected face, find the landmark.\n",
    "        for (i, rect) in enumerate(rects):\n",
    "            # Make the prediction and transfom it to numpy array\n",
    "            shape = predictor(gray, rect)\n",
    "            shape = face_utils.shape_to_np(shape)\n",
    "            data.append(shape)\n",
    "            cv2.putText(image,\"Calibrating...\", bottomLeftCornerOfText, font, fontScale, fontColor,lineType)\n",
    "\n",
    "            # Draw on our image, all the finded cordinate points (x,y) \n",
    "            for (x, y) in shape:\n",
    "                cv2.circle(image, (x, y), 2, (0, 255, 0), -1)\n",
    "\n",
    "        # Show the image\n",
    "        cv2.imshow(\"Output\", image)\n",
    "\n",
    "        k = cv2.waitKey(5) & 0xFF\n",
    "        if k == ord(\"q\"):\n",
    "            break\n",
    "\n",
    "    cv2.destroyAllWindows()\n",
    "    cap.release()\n",
    "    \n",
    "    \n",
    "    features_test = []\n",
    "    for d in data:\n",
    "        eye = d[36:68]\n",
    "        ear = eye_aspect_ratio(eye)\n",
    "        mar = mouth_aspect_ratio(eye)\n",
    "        cir = circularity(eye)\n",
    "        mouth_eye = mouth_over_eye(eye)\n",
    "        features_test.append([ear, mar, cir, mouth_eye])\n",
    "    \n",
    "    features_test = np.array(features_test)\n",
    "    x = features_test\n",
    "    y = pd.DataFrame(x,columns=[\"EAR\",\"MAR\",\"Circularity\",\"MOE\"])\n",
    "    df_means = y.mean(axis=0)\n",
    "    df_std = y.std(axis=0)\n",
    "    \n",
    "    return df_means,df_std\n",
    "\n",
    "font                   = cv2.FONT_HERSHEY_SIMPLEX\n",
    "bottomLeftCornerOfText = (10,400)\n",
    "fontScale              = 1\n",
    "fontColor              = (255,255,255)\n",
    "lineType               = 2"
   ]
  },
  {
   "cell_type": "code",
   "execution_count": 7,
   "metadata": {
    "colab": {},
    "colab_type": "code",
    "id": "C-hbYdBYqGdK"
   },
   "outputs": [],
   "source": [
    "def live():\n",
    "    cap = cv2.VideoCapture(0)\n",
    "    data = []\n",
    "    result = []\n",
    "    while True:\n",
    "        # Getting out image by webcam \n",
    "        _, image = cap.read()\n",
    "        # Converting the image to gray scale\n",
    "        gray = cv2.cvtColor(image, cv2.COLOR_BGR2GRAY)\n",
    "\n",
    "        # Get faces into webcam's image\n",
    "        rects = detector(image, 0)\n",
    "\n",
    "        # For each detected face, find the landmark.\n",
    "        for (i, rect) in enumerate(rects):\n",
    "            # Make the prediction and transfom it to numpy array\n",
    "            shape = predictor(gray, rect)\n",
    "            shape = face_utils.shape_to_np(shape)\n",
    "            Result_String, features = model(shape)\n",
    "            cv2.putText(image,Result_String, bottomLeftCornerOfText, font, fontScale, fontColor,lineType)\n",
    "            data.append (features)\n",
    "            result.append(Result_String)\n",
    "\n",
    "            # Draw on our image, all the finded cordinate points (x,y) \n",
    "            for (x, y) in shape:\n",
    "                cv2.circle(image, (x, y), 2, (0, 255, 0), -1)\n",
    "\n",
    "        # Show the image\n",
    "        cv2.imshow(\"Output\", image)\n",
    "\n",
    "        k = cv2.waitKey(300) & 0xFF\n",
    "        if k == ord(\"q\"):\n",
    "            break\n",
    "\n",
    "    cv2.destroyAllWindows()\n",
    "    cap.release()\n",
    "    \n",
    "    return data,result\n",
    "\n",
    "font                   = cv2.FONT_HERSHEY_SIMPLEX\n",
    "bottomLeftCornerOfText = (10,400)\n",
    "fontScale              = 1\n",
    "fontColor              = (255,255,255)\n",
    "lineType               = 2"
   ]
  },
  {
   "cell_type": "code",
   "execution_count": 8,
   "metadata": {
    "colab": {},
    "colab_type": "code",
    "id": "RFG6Gde9qGdR"
   },
   "outputs": [],
   "source": [
    "#Run Calibration\n",
    "mean, std = calibration()"
   ]
  },
  {
   "cell_type": "code",
   "execution_count": 9,
   "metadata": {
    "colab": {},
    "colab_type": "code",
    "id": "5doI5hPAqGdY"
   },
   "outputs": [],
   "source": [
    "#Run Demonstration\n",
    "features, result = live()"
   ]
  },
  {
   "cell_type": "code",
   "execution_count": 10,
   "metadata": {
    "colab": {},
    "colab_type": "code",
    "id": "88ctUIfVqGdd",
    "outputId": "423f8e3c-3410-489c-b5ba-8de565c77d9b"
   },
   "outputs": [
    {
     "name": "stderr",
     "output_type": "stream",
     "text": [
      "No handles with labels found to put in legend.\n"
     ]
    },
    {
     "data": {
      "text/plain": [
       "Text(0.5, 0, 'Time (Frames Captured)')"
      ]
     },
     "execution_count": 10,
     "metadata": {},
     "output_type": "execute_result"
    },
    {
     "data": {
      "image/png": "[encoded data removed]",
      "text/plain": [
       "<Figure size 1080x576 with 2 Axes>"
      ]
     },
     "metadata": {
      "needs_background": "light"
     },
     "output_type": "display_data"
    }
   ],
   "source": [
    "#Plot Results\n",
    "features =np.vstack(features)\n",
    "y = pd.DataFrame(features,columns=[\"EAR\",\"MAR\",\"Circularity\",\"MOE\",\"EAR_N\",\"MAR_N\",\"Circularity_N\",\"MOE_N\"])\n",
    "y = y.drop(columns=[\"EAR_N\",\"MAR_N\",\"Circularity_N\",\"MOE_N\"])\n",
    "\n",
    "x = y.values #returns a numpy array\n",
    "min_max_scaler = preprocessing.MinMaxScaler()\n",
    "x_scaled = min_max_scaler.fit_transform(x)\n",
    "y = pd.DataFrame(x_scaled,columns=[\"Eye Aspect Ratio\",\"Mouth Aspect Ratio\",\"Eye Circularity\",\"Mouth over Eye\"])\n",
    "\n",
    "\n",
    "y [\"Result\"] = result\n",
    "\n",
    "\n",
    "fig, (ax1, ax2) = plt.subplots(nrows=2,\n",
    "                                ncols=1,\n",
    "                                sharex=True,\n",
    "                                sharey=False,\n",
    "                                figsize=(15, 8))\n",
    "\n",
    "ax1.set_title(\"Normalised Features\")\n",
    "#ax1.plot(y[\"Eye Aspect Ratio\"])\n",
    "#ax1.plot(y[\"Mouth Aspect Ratio\"])\n",
    "ax1.plot(y[\"Eye Circularity\"])\n",
    "ax1.plot(y[\"Mouth over Eye\"])\n",
    "ax1.legend(loc=\"best\")\n",
    "ax1.set_ylabel('Feature Value')\n",
    "\n",
    "\n",
    "ax2.plot(y[\"Result\"],marker = '.', color = \"Black\")\n",
    "ax2.set_xlabel('Time (Frames Captured)')"
   ]
  },
  {
   "cell_type": "code",
   "execution_count": 11,
   "metadata": {},
   "outputs": [],
   "source": [
    "import statistics"
   ]
  },
  {
   "cell_type": "code",
   "execution_count": 12,
   "metadata": {},
   "outputs": [],
   "source": [
    "import statistics\n",
    "from statistics import mean"
   ]
  },
  {
   "cell_type": "code",
   "execution_count": null,
   "metadata": {},
   "outputs": [],
   "source": []
  },
  {
   "cell_type": "code",
   "execution_count": null,
   "metadata": {},
   "outputs": [],
   "source": []
  },
  {
   "cell_type": "code",
   "execution_count": null,
   "metadata": {},
   "outputs": [],
   "source": []
  },
  {
   "cell_type": "code",
   "execution_count": null,
   "metadata": {},
   "outputs": [],
   "source": []
  }
 ],
 "metadata": {
  "colab": {
   "name": "Live Feature Extraction.ipynb",
   "provenance": []
  },
  "kernelspec": {
   "display_name": "Python 3",
   "language": "python",
   "name": "python3"
  },
  "language_info": {
   "codemirror_mode": {
    "name": "ipython",
    "version": 3
   },
   "file_extension": ".py",
   "mimetype": "text/x-python",
   "name": "python",
   "nbconvert_exporter": "python",
   "pygments_lexer": "ipython3",
   "version": "3.7.4"
  }
 },
 "nbformat": 4,
 "nbformat_minor": 1
}
